{
 "cells": [
  {
   "cell_type": "code",
   "execution_count": null,
   "id": "2db26e88-b4da-4a50-84a8-19d18a8a9235",
   "metadata": {},
   "outputs": [],
   "source": [
    "#importing required libraries and warnings\n",
    "import pandas as pd\n",
    "import numpy as np\n",
    "import matplotlib.pyplot as plt\n",
    "import seaborn as sns\n",
    "import warnings\n",
    "warnings.filterwarnings(action='ignore')"
   ]
  },
  {
   "cell_type": "markdown",
   "id": "fa12ccb7-baf9-408c-ba13-5cea27627a78",
   "metadata": {},
   "source": [
    "**Importing CSV File**"
   ]
  },
  {
   "cell_type": "code",
   "execution_count": null,
   "id": "81df77c5-2459-44ec-8c56-768c33ff5f31",
   "metadata": {},
   "outputs": [],
   "source": [
    "\n",
    "application_data = pd.read_csv('application_data.csv')\n",
    "\n",
    "#https://drive.google.com/drive/folders/16RQztUqCfJOlbooHqYlJrp6Q7iL65uZB"
   ]
  },
  {
   "cell_type": "markdown",
   "id": "27aff8ff-6590-4bfc-a8f0-eb5051a14428",
   "metadata": {},
   "source": [
    "***DATA LOADING***"
   ]
  },
  {
   "cell_type": "code",
   "execution_count": null,
   "id": "3af3b730-1b9b-438f-a975-260872917cc0",
   "metadata": {},
   "outputs": [],
   "source": [
    "application_data.head()"
   ]
  },
  {
   "cell_type": "code",
   "execution_count": null,
   "id": "028d1a0c-60f2-4c4a-850d-c5ed292e4783",
   "metadata": {},
   "outputs": [],
   "source": [
    "application_data.shape"
   ]
  },
  {
   "cell_type": "markdown",
   "id": "56929a01-1155-48ff-9e8d-8cac571bbe38",
   "metadata": {},
   "source": [
    "**Identification of Missing Values**"
   ]
  },
  {
   "cell_type": "code",
   "execution_count": null,
   "id": "0ca61986-5bbc-4059-a0dd-07ec986dd170",
   "metadata": {},
   "outputs": [],
   "source": [
    "\n",
    "application_data.info()\n"
   ]
  },
  {
   "cell_type": "markdown",
   "id": "69ab9f6d-ae75-48fe-8c5f-ac4aeb762c26",
   "metadata": {},
   "source": [
    "**Dropping the columns with % of null values more than 30%**\n"
   ]
  },
  {
   "cell_type": "code",
   "execution_count": null,
   "id": "cd96dc7d-7100-4386-b5e4-688f571049a0",
   "metadata": {},
   "outputs": [],
   "source": [
    "100*application_data.isnull().mean()"
   ]
  },
  {
   "cell_type": "code",
   "execution_count": null,
   "id": "05ae877a-2fac-404f-b39c-6fae465b6b44",
   "metadata": {},
   "outputs": [],
   "source": [
    "cut_off=30\n",
    "cols_to_drop=list(application_data.columns[100*application_data.isnull().mean()>cut_off])\n",
    "print(cols_to_drop,len(cols_to_drop))"
   ]
  },
  {
   "cell_type": "code",
   "execution_count": null,
   "id": "1aa8e6c9-2a55-454a-ad12-865ec0269aa9",
   "metadata": {},
   "outputs": [],
   "source": [
    "df1=application_data.drop(cols_to_drop,axis=1)"
   ]
  },
  {
   "cell_type": "code",
   "execution_count": null,
   "id": "9588b536-ca7e-4f26-9b86-70102fff8098",
   "metadata": {},
   "outputs": [],
   "source": [
    "df1.shape"
   ]
  },
  {
   "cell_type": "code",
   "execution_count": null,
   "id": "09c9958d-c0f4-49b3-8549-fbeec11ad341",
   "metadata": {},
   "outputs": [],
   "source": [
    "df1.info()"
   ]
  },
  {
   "cell_type": "markdown",
   "id": "d52548b5-8efe-4a70-9363-64355fae33be",
   "metadata": {},
   "source": [
    "***Listing and Deleting the columns which are not much relavent for analysis***"
   ]
  },
  {
   "cell_type": "code",
   "execution_count": null,
   "id": "83f532fa-cb01-4bc8-ac61-16eec66effde",
   "metadata": {},
   "outputs": [],
   "source": [
    "cols_irrelevant = ['DAYS_REGISTRATION','FLAG_MOBIL','FLAG_EMP_PHONE','FLAG_WORK_PHONE','FLAG_CONT_MOBILE',\n",
    "                   'FLAG_PHONE','FLAG_EMAIL','WEEKDAY_APPR_PROCESS_START','HOUR_APPR_PROCESS_START','LIVE_REGION_NOT_WORK_REGION',\n",
    "                   'REG_CITY_NOT_LIVE_CITY','REG_CITY_NOT_WORK_CITY','LIVE_CITY_NOT_WORK_CITY','DAYS_LAST_PHONE_CHANGE',\n",
    "                  'OBS_30_CNT_SOCIAL_CIRCLE','DEF_30_CNT_SOCIAL_CIRCLE','OBS_60_CNT_SOCIAL_CIRCLE','DEF_60_CNT_SOCIAL_CIRCLE',\n",
    "                  'NAME_TYPE_SUITE']\n",
    "cols_irrelevant"
   ]
  },
  {
   "cell_type": "code",
   "execution_count": null,
   "id": "70d1a4cc-0227-4f56-97f1-80176d71d1d0",
   "metadata": {},
   "outputs": [],
   "source": [
    "df1 = df1.drop(cols_irrelevant,axis=1)"
   ]
  },
  {
   "cell_type": "code",
   "execution_count": null,
   "id": "44b392ec-38b0-408b-8061-818dde55c0d2",
   "metadata": {},
   "outputs": [],
   "source": [
    "df1.shape"
   ]
  },
  {
   "cell_type": "code",
   "execution_count": null,
   "id": "77e9538b-d48b-42aa-9520-23c7b213bf22",
   "metadata": {},
   "outputs": [],
   "source": [
    "df1.info()"
   ]
  },
  {
   "cell_type": "markdown",
   "id": "7eb11922-709c-49c0-9124-176b28932d49",
   "metadata": {},
   "source": [
    "**Dividing the columns into Categorical and Numerical**"
   ]
  },
  {
   "cell_type": "code",
   "execution_count": null,
   "id": "72ec8e11-1a92-4bd0-b379-95ad2e710082",
   "metadata": {},
   "outputs": [],
   "source": [
    "cat_cols=list(df1.dtypes[df1.dtypes=='object'].index)"
   ]
  },
  {
   "cell_type": "code",
   "execution_count": null,
   "id": "6032326b-0dfc-4fdb-a82b-b9ccbd1e3bd2",
   "metadata": {},
   "outputs": [],
   "source": [
    "num_cols=list(df1.dtypes[df1.dtypes!='object'].index)"
   ]
  },
  {
   "cell_type": "code",
   "execution_count": null,
   "id": "861b48d8-fcd4-4f85-ab9c-4e85a2e0abfa",
   "metadata": {},
   "outputs": [],
   "source": [
    "df1[cat_cols].head()"
   ]
  },
  {
   "cell_type": "code",
   "execution_count": null,
   "id": "3a7303f0-edb7-4f3c-8702-57f752274b65",
   "metadata": {},
   "outputs": [],
   "source": [
    "df1[num_cols].head()"
   ]
  },
  {
   "cell_type": "code",
   "execution_count": null,
   "id": "276b2e25-9fb2-4e2e-96e2-cf129e655f87",
   "metadata": {},
   "outputs": [],
   "source": [
    "df1[cat_cols].shape"
   ]
  },
  {
   "cell_type": "code",
   "execution_count": null,
   "id": "546e9c61-e1a6-4d33-9bf3-c18d250c90ec",
   "metadata": {},
   "outputs": [],
   "source": [
    "df1[num_cols].shape"
   ]
  },
  {
   "cell_type": "markdown",
   "id": "d0ad22af-edd2-4231-9606-476729227661",
   "metadata": {},
   "source": [
    "**Imputation of Data** \n"
   ]
  },
  {
   "cell_type": "markdown",
   "id": "a6d57530-3774-4436-ad12-c668207b0edd",
   "metadata": {},
   "source": [
    "**Handling data fo Numerical Columns**"
   ]
  },
  {
   "cell_type": "code",
   "execution_count": null,
   "id": "d6455a1e-3ab1-4bce-bc4d-71b3361e0ded",
   "metadata": {},
   "outputs": [],
   "source": [
    "100*df1[num_cols].isnull().mean()"
   ]
  },
  {
   "cell_type": "code",
   "execution_count": null,
   "id": "55bbd7f7-02bd-4b88-a8e0-62dd6ced63c8",
   "metadata": {},
   "outputs": [],
   "source": [
    "#Handling data for EXT_SOURCE_2 and EXT_SOURCE_3 column"
   ]
  },
  {
   "cell_type": "code",
   "execution_count": null,
   "id": "c4e9bd38-ad88-4310-8e5a-74c517f96971",
   "metadata": {},
   "outputs": [],
   "source": [
    "(df1['EXT_SOURCE_2'].isnull() & df1['EXT_SOURCE_3'].isnull()).sum()"
   ]
  },
  {
   "cell_type": "code",
   "execution_count": null,
   "id": "df10cbbc-ca22-4189-827e-ade9da7e04fe",
   "metadata": {},
   "outputs": [],
   "source": [
    "#As count of empty rows in both rows are low , deleting the rows from total of 307511 is prefered\n",
    "df1=df1[~(df1['EXT_SOURCE_2'].isnull() & df1['EXT_SOURCE_3'].isnull())]"
   ]
  },
  {
   "cell_type": "code",
   "execution_count": null,
   "id": "d93c313f-00cc-4e5a-8987-7ea21302a335",
   "metadata": {},
   "outputs": [],
   "source": [
    "round(df1[['EXT_SOURCE_2','EXT_SOURCE_3']].describe())"
   ]
  },
  {
   "cell_type": "code",
   "execution_count": null,
   "id": "a2607234-e6ef-40cf-b836-c24b5255c9a4",
   "metadata": {},
   "outputs": [],
   "source": [
    "# As mean and median values are almost same for both EXT_SOURCE_2,EXT_SOURCE_3, filling  mean to the null values \n",
    "cols=df1[['EXT_SOURCE_2','EXT_SOURCE_3']]\n",
    "for col in cols:\n",
    "    mean=df1[col].mean()\n",
    "    df1[col]=df1[col].fillna(mean)\n"
   ]
  },
  {
   "cell_type": "code",
   "execution_count": null,
   "id": "0d1dea88-2ab5-42b5-b012-ad24f5780d74",
   "metadata": {},
   "outputs": [],
   "source": [
    "df1[num_cols].isnull().mean()"
   ]
  },
  {
   "cell_type": "code",
   "execution_count": null,
   "id": "c80c256c-e4c7-4292-9193-5e7ed3b519b6",
   "metadata": {},
   "outputs": [],
   "source": [
    "#Handling missing rows for AMT_REQ_CREDIT_BUREAU columns\n",
    "round(df1[['AMT_REQ_CREDIT_BUREAU_HOUR','AMT_REQ_CREDIT_BUREAU_DAY','AMT_REQ_CREDIT_BUREAU_WEEK','AMT_REQ_CREDIT_BUREAU_MON','AMT_REQ_CREDIT_BUREAU_QRT','AMT_REQ_CREDIT_BUREAU_YEAR']].describe())"
   ]
  },
  {
   "cell_type": "code",
   "execution_count": null,
   "id": "aa2e778f-f91f-4eea-b141-3936735e854c",
   "metadata": {},
   "outputs": [],
   "source": [
    "#Since the standard deviation is high , Its not advisable to fill NA with mean or median. Hence checking for most common value \n",
    "df1[['AMT_REQ_CREDIT_BUREAU_HOUR','AMT_REQ_CREDIT_BUREAU_DAY','AMT_REQ_CREDIT_BUREAU_WEEK','AMT_REQ_CREDIT_BUREAU_MON','AMT_REQ_CREDIT_BUREAU_QRT','AMT_REQ_CREDIT_BUREAU_YEAR']].value_counts()"
   ]
  },
  {
   "cell_type": "code",
   "execution_count": null,
   "id": "9366dbf4-f354-4fb2-9781-dc9bc8320a23",
   "metadata": {},
   "outputs": [],
   "source": [
    "#As 0 is the most common value for all the columns replacing Null values with 0\n",
    "cols=df1[['AMT_REQ_CREDIT_BUREAU_HOUR','AMT_REQ_CREDIT_BUREAU_DAY','AMT_REQ_CREDIT_BUREAU_WEEK','AMT_REQ_CREDIT_BUREAU_MON','AMT_REQ_CREDIT_BUREAU_QRT','AMT_REQ_CREDIT_BUREAU_YEAR']]\n",
    "for col in cols:\n",
    "    df1[col]=df1[col].fillna(0)"
   ]
  },
  {
   "cell_type": "code",
   "execution_count": null,
   "id": "1f03b366-f374-4171-941e-e91f9588731d",
   "metadata": {},
   "outputs": [],
   "source": [
    "100*df1[num_cols].isnull().mean()"
   ]
  },
  {
   "cell_type": "markdown",
   "id": "666dd7a2-f647-41e2-9278-0bf1d71d2da5",
   "metadata": {},
   "source": [
    "***Handling missing rows in AMT_ANNUITY,AMT_GOODS_PRICE ,CNT_FAM_MEMBERS columns***"
   ]
  },
  {
   "cell_type": "code",
   "execution_count": null,
   "id": "dbfc8ae4-9d5e-4535-8bfd-9dcaf1a8ebfb",
   "metadata": {},
   "outputs": [],
   "source": [
    "#As the % of missing values is less than 0.1% in all the three columns replacing null values with the median value of the respective column\n",
    "cols=df1[['AMT_ANNUITY','AMT_GOODS_PRICE','CNT_FAM_MEMBERS']]\n",
    "for col in cols:\n",
    "    mean=df1[col].mean()\n",
    "    df1[col]=df1[col].fillna(mean)"
   ]
  },
  {
   "cell_type": "code",
   "execution_count": null,
   "id": "d44381e3-8bac-478c-abdb-02466a54ec16",
   "metadata": {},
   "outputs": [],
   "source": [
    "100*df1[num_cols].isnull().mean()"
   ]
  },
  {
   "cell_type": "markdown",
   "id": "ce036b2e-2f33-430b-b9c6-c7fcebfd0939",
   "metadata": {},
   "source": [
    "**Handling Data for Categorical Columns**"
   ]
  },
  {
   "cell_type": "markdown",
   "id": "677a8d4e-ef8c-4208-a6ba-572931facd74",
   "metadata": {},
   "source": [
    "***Replacing missing values with mode in case of categorical columns***"
   ]
  },
  {
   "cell_type": "code",
   "execution_count": null,
   "id": "6702c95a-5f8a-4169-91d1-e080d0c3bbe0",
   "metadata": {},
   "outputs": [],
   "source": [
    "100*df1[cat_cols].isnull().mean()"
   ]
  },
  {
   "cell_type": "code",
   "execution_count": null,
   "id": "f620d175-c36f-4d87-b840-aa11653e0eb8",
   "metadata": {},
   "outputs": [],
   "source": [
    "for col in cat_cols:\n",
    "    mod=df1[col].mode()[0] \n",
    "    df1[col]=df1[col].fillna(mod)"
   ]
  },
  {
   "cell_type": "code",
   "execution_count": null,
   "id": "9b754c75-4f28-41d7-b7d9-feebe37ef045",
   "metadata": {},
   "outputs": [],
   "source": [
    "df1[cat_cols].isnull().mean()"
   ]
  },
  {
   "cell_type": "markdown",
   "id": "c439b87f-256c-4025-91ca-bfeffc2e4047",
   "metadata": {},
   "source": [
    "We have a dataframe with no null values. \n",
    "Now converting the DAYS_BIRTH and DAYS_EMPLOYED to AGE and WORK_EXPERIENCE columns for better readability and analysis.\n"
   ]
  },
  {
   "cell_type": "code",
   "execution_count": null,
   "id": "a6a75927-ea62-4a82-9f14-92016a681d47",
   "metadata": {},
   "outputs": [],
   "source": [
    "#Creating age column\n",
    "df1['AGE'] = abs(df1['DAYS_BIRTH']//365)"
   ]
  },
  {
   "cell_type": "code",
   "execution_count": null,
   "id": "64dc701d-1096-489d-a381-4dbbd9aecead",
   "metadata": {},
   "outputs": [],
   "source": [
    "#Creating Work_experience column\n",
    "df1['Work_Experience'] = abs(df1['DAYS_EMPLOYED']//365)"
   ]
  },
  {
   "cell_type": "code",
   "execution_count": null,
   "id": "d438ce8b-758c-42f3-b915-78fb014637eb",
   "metadata": {},
   "outputs": [],
   "source": [
    "#Dropping DAYS_BIRTH and DAYS_EMPLOYED columns \n",
    "df1 = df1.drop(['DAYS_BIRTH','DAYS_EMPLOYED'],axis=1)"
   ]
  },
  {
   "cell_type": "markdown",
   "id": "1cd77ce8-7c99-4078-a0e0-1cb46a316d20",
   "metadata": {},
   "source": [
    "**To analyse the category of income,adding column income group with low,medium and high depending on the AMT_INCOME_TOTAL column**\n"
   ]
  },
  {
   "cell_type": "code",
   "execution_count": null,
   "id": "c2bc1eda-9906-42df-ad76-acf2c67b0b3e",
   "metadata": {},
   "outputs": [],
   "source": [
    "round(df1['AMT_INCOME_TOTAL'].describe())"
   ]
  },
  {
   "cell_type": "code",
   "execution_count": null,
   "id": "04f87e67-4b37-4d7c-bbcb-e68cb039979e",
   "metadata": {},
   "outputs": [],
   "source": [
    "    df1['Income_Group']= pd.cut(df1.AMT_INCOME_TOTAL,[0,130000,202500,118000000],labels=['Low','Medium','High'])\n",
    "#dividing incomes based on the IQR values above"
   ]
  },
  {
   "cell_type": "code",
   "execution_count": null,
   "id": "5362f7e9-059c-442a-9ba7-a7a32fcac0a6",
   "metadata": {},
   "outputs": [],
   "source": [
    "df1[['AMT_INCOME_TOTAL','Income_Group']].head(20)"
   ]
  },
  {
   "cell_type": "markdown",
   "id": "cc33afde-8d2a-45f3-ac9a-70b240e95341",
   "metadata": {},
   "source": [
    "**To analyse the AGE group,adding column Age_Group depending on AGE  column**"
   ]
  },
  {
   "cell_type": "code",
   "execution_count": null,
   "id": "974c8552-d0fa-4701-947b-65f98f8d3f15",
   "metadata": {},
   "outputs": [],
   "source": [
    "df1['Age_Group']=pd.cut(df1.AGE,[0,30,60,1000],labels=['Young','Middle-Aged','Old-Aged'])"
   ]
  },
  {
   "cell_type": "code",
   "execution_count": null,
   "id": "9f0a45ce-2030-4a81-b7b8-80df6fea3f5b",
   "metadata": {},
   "outputs": [],
   "source": [
    "df1[['AGE','Age_Group']].head(20)"
   ]
  },
  {
   "cell_type": "code",
   "execution_count": null,
   "id": "9e9c0e2f-4b9f-4f96-8a2b-187407ae6120",
   "metadata": {},
   "outputs": [],
   "source": [
    "df1.TARGET.value_counts(normalize=True).plot.bar()\n",
    "plt.show()"
   ]
  },
  {
   "cell_type": "markdown",
   "id": "d882da59-43e2-4dff-b047-bbde2d9d6703",
   "metadata": {},
   "source": [
    "**To EASE Analysis , Dividing data into two i.e Defaulters and Non Defaulters based on the Target column. 1-Defaulters , 0-non Defaulters**"
   ]
  },
  {
   "cell_type": "code",
   "execution_count": null,
   "id": "3d3674aa-a175-4b8a-92a5-0271cc61b091",
   "metadata": {},
   "outputs": [],
   "source": [
    "Defaulters = df1[df1['TARGET']==1]"
   ]
  },
  {
   "cell_type": "code",
   "execution_count": null,
   "id": "1c96ffd3-7c26-46ea-a34c-9f8750e33c32",
   "metadata": {},
   "outputs": [],
   "source": [
    "Defaulters.head()"
   ]
  },
  {
   "cell_type": "code",
   "execution_count": null,
   "id": "c8d5349e-0a9a-456a-a60c-687ea856f56c",
   "metadata": {},
   "outputs": [],
   "source": [
    "#Dividing into categorical and numerical columns\n",
    "Dcat_cols=list(Defaulters.dtypes[df1.dtypes=='object'].index)"
   ]
  },
  {
   "cell_type": "code",
   "execution_count": null,
   "id": "9aa901d6-6fa6-490e-88b4-7c216b8b63d6",
   "metadata": {},
   "outputs": [],
   "source": [
    "Dnum_cols=list(Defaulters.dtypes[df1.dtypes!='object'].index)"
   ]
  },
  {
   "cell_type": "code",
   "execution_count": null,
   "id": "87798fb1-fdb1-44a6-b204-18860286e122",
   "metadata": {},
   "outputs": [],
   "source": [
    "Non_Defaulters= df1[df1['TARGET']==0]"
   ]
  },
  {
   "cell_type": "code",
   "execution_count": null,
   "id": "70717bee-ebda-4bda-8717-498469de6217",
   "metadata": {},
   "outputs": [],
   "source": [
    "Non_Defaulters.head()"
   ]
  },
  {
   "cell_type": "code",
   "execution_count": null,
   "id": "43adb8f9-aa36-40e3-a01f-c17cb7dacf05",
   "metadata": {},
   "outputs": [],
   "source": [
    "#Dividing into Categorical and numerical columns\n",
    "Ncat_cols=list(Non_Defaulters.dtypes[df1.dtypes=='object'].index)"
   ]
  },
  {
   "cell_type": "code",
   "execution_count": null,
   "id": "6046bb21-7896-4b7d-b592-a6c1e4860359",
   "metadata": {},
   "outputs": [],
   "source": [
    "Nnum_cols=list(Non_Defaulters.dtypes[df1.dtypes!='object'].index)"
   ]
  },
  {
   "cell_type": "markdown",
   "id": "02d57415-2d9c-4ade-ab52-601577b3d77c",
   "metadata": {},
   "source": [
    "**EDA**"
   ]
  },
  {
   "cell_type": "markdown",
   "id": "ce4af4fd-2ab0-46aa-9c16-60aecdb27dd5",
   "metadata": {},
   "source": [
    "**Univariate Analysis for Defaulters**"
   ]
  },
  {
   "cell_type": "markdown",
   "id": "c7d43dee-1145-43c5-900d-e0609b940587",
   "metadata": {},
   "source": [
    "***Using histogram for analysis of  numerical columns***"
   ]
  },
  {
   "cell_type": "code",
   "execution_count": null,
   "id": "cd5e778d-3ea6-4256-bd6c-382b7bec81a7",
   "metadata": {},
   "outputs": [],
   "source": [
    "for col in Dnum_cols:\n",
    "    sns.histplot(x=df1[col])\n",
    "    plt.show()"
   ]
  },
  {
   "cell_type": "markdown",
   "id": "51b162d2-c8c0-452b-be7d-daf593bf3210",
   "metadata": {},
   "source": [
    "**As there is very minimum information available from the below columns, Dropping them for future analysis**"
   ]
  },
  {
   "cell_type": "code",
   "execution_count": null,
   "id": "9792f24c-751d-4055-8682-3bced49123aa",
   "metadata": {},
   "outputs": [],
   "source": [
    "cols_to_drop= Defaulters[['SK_ID_CURR','TARGET','AMT_INCOME_TOTAL','REG_REGION_NOT_LIVE_REGION','REG_REGION_NOT_WORK_REGION','FLAG_DOCUMENT_2','FLAG_DOCUMENT_4','FLAG_DOCUMENT_5','FLAG_DOCUMENT_6','FLAG_DOCUMENT_7','FLAG_DOCUMENT_8','FLAG_DOCUMENT_9','FLAG_DOCUMENT_10','FLAG_DOCUMENT_11','FLAG_DOCUMENT_12','FLAG_DOCUMENT_13','FLAG_DOCUMENT_14','FLAG_DOCUMENT_15','FLAG_DOCUMENT_16','FLAG_DOCUMENT_17','FLAG_DOCUMENT_18','FLAG_DOCUMENT_19','FLAG_DOCUMENT_20','FLAG_DOCUMENT_21','AMT_REQ_CREDIT_BUREAU_HOUR','AMT_REQ_CREDIT_BUREAU_DAY','AMT_REQ_CREDIT_BUREAU_WEEK','AMT_REQ_CREDIT_BUREAU_MON','AMT_REQ_CREDIT_BUREAU_QRT']]\n",
    "Defaulters= Defaulters.drop(cols_to_drop,axis=1)"
   ]
  },
  {
   "cell_type": "code",
   "execution_count": null,
   "id": "7dff4e56-2f9c-4525-bd90-04968a14eb79",
   "metadata": {},
   "outputs": [],
   "source": [
    "Defaulters.shape"
   ]
  },
  {
   "cell_type": "markdown",
   "id": "faf8b102-b6f9-48a2-9ab8-82ba91058b3a",
   "metadata": {},
   "source": [
    "***Using count plot for categorical columns***"
   ]
  },
  {
   "cell_type": "code",
   "execution_count": null,
   "id": "0453c676-89db-4164-bf3c-73da4e0611e6",
   "metadata": {},
   "outputs": [],
   "source": [
    "for col in Dcat_cols:\n",
    "    sns.countplot(x=df1[col])\n",
    "    plt.xticks(rotation=90)\n",
    "    plt.show()"
   ]
  },
  {
   "cell_type": "markdown",
   "id": "d10653bf-57d9-4788-b914-d08e6dc09d26",
   "metadata": {},
   "source": [
    "**Univariate Analysis for Non-Defaulters**"
   ]
  },
  {
   "cell_type": "code",
   "execution_count": null,
   "id": "77e231bc-9bd5-4a1e-9f7f-181bc1c8765a",
   "metadata": {},
   "outputs": [],
   "source": [
    "for col in Nnum_cols:\n",
    "    sns.histplot(x=df1[col])\n",
    "    plt.show()"
   ]
  },
  {
   "cell_type": "markdown",
   "id": "ee594116-9710-4c2c-97f3-64261c4e70d4",
   "metadata": {},
   "source": [
    "**As there is very minimum information available from the below columns, Dropping them for future analysis**"
   ]
  },
  {
   "cell_type": "code",
   "execution_count": null,
   "id": "ff100444-3138-4df6-b62d-5df9dbf7c76e",
   "metadata": {},
   "outputs": [],
   "source": [
    "cols_to_drop= Non_Defaulters[['SK_ID_CURR','TARGET','AMT_INCOME_TOTAL','REG_REGION_NOT_LIVE_REGION','REG_REGION_NOT_WORK_REGION','FLAG_DOCUMENT_2','FLAG_DOCUMENT_4','FLAG_DOCUMENT_5','FLAG_DOCUMENT_6','FLAG_DOCUMENT_7','FLAG_DOCUMENT_8','FLAG_DOCUMENT_9','FLAG_DOCUMENT_10','FLAG_DOCUMENT_11','FLAG_DOCUMENT_12','FLAG_DOCUMENT_13','FLAG_DOCUMENT_14','FLAG_DOCUMENT_15','FLAG_DOCUMENT_16','FLAG_DOCUMENT_17','FLAG_DOCUMENT_18','FLAG_DOCUMENT_19','FLAG_DOCUMENT_20','FLAG_DOCUMENT_21','AMT_REQ_CREDIT_BUREAU_HOUR','AMT_REQ_CREDIT_BUREAU_DAY','AMT_REQ_CREDIT_BUREAU_WEEK','AMT_REQ_CREDIT_BUREAU_MON','AMT_REQ_CREDIT_BUREAU_QRT']]\n",
    "Non_Defaulters= Non_Defaulters.drop(cols_to_drop,axis=1)\n",
    "\n"
   ]
  },
  {
   "cell_type": "code",
   "execution_count": null,
   "id": "821f06fe-088c-47f4-9148-a2a61d6f54d4",
   "metadata": {},
   "outputs": [],
   "source": [
    "Non_Defaulters.shape"
   ]
  },
  {
   "cell_type": "markdown",
   "id": "16bb5bf4-b74e-4a73-9e77-4c1bfb166a7b",
   "metadata": {},
   "source": [
    "***Using count plot for categorical columns***"
   ]
  },
  {
   "cell_type": "code",
   "execution_count": null,
   "id": "8b2a0d7a-7be4-4fa1-861a-9d128e18fcab",
   "metadata": {},
   "outputs": [],
   "source": [
    "for col in Ncat_cols:\n",
    "    sns.countplot(x=df1[col])\n",
    "    plt.xticks(rotation=90)\n",
    "    plt.show()"
   ]
  },
  {
   "cell_type": "code",
   "execution_count": null,
   "id": "c8e65759-7f10-4487-bb15-e6b33ee5dcf1",
   "metadata": {},
   "outputs": [],
   "source": [
    "Defaulters.info()"
   ]
  },
  {
   "cell_type": "markdown",
   "id": "ad002507-be8a-442f-b844-a1c40a665b8d",
   "metadata": {},
   "source": [
    "***Comparing Defaulters and Non-Defaulters for below columns using sub-plots***"
   ]
  },
  {
   "cell_type": "markdown",
   "id": "ad661f31-2798-43d3-a185-a432c3095251",
   "metadata": {},
   "source": [
    "**Defaulters and Non Defaulters based on loan type**"
   ]
  },
  {
   "cell_type": "code",
   "execution_count": null,
   "id": "ea6b61a2-858f-40c5-a3ed-519296a6d411",
   "metadata": {},
   "outputs": [],
   "source": [
    "fig, axes = plt.subplots(1, 2, figsize=(14, 6))\n",
    "sns.countplot(ax=axes[0], data=Defaulters, x='NAME_CONTRACT_TYPE')\n",
    "axes[0].set_title('Defaulters')\n",
    "axes[0].set_xlabel('Contract Type')\n",
    "axes[0].set_ylabel('Count')\n",
    "sns.countplot(ax=axes[1], data=Non_Defaulters, x='NAME_CONTRACT_TYPE')\n",
    "axes[1].set_title('Non-Defaulters')\n",
    "axes[1].set_xlabel('Contract Type')\n",
    "axes[1].set_ylabel('Count')\n",
    "plt.tight_layout()\n",
    "plt.show()"
   ]
  },
  {
   "cell_type": "markdown",
   "id": "66ba7556-3fbf-4301-993b-0038603044bb",
   "metadata": {},
   "source": [
    "Observation\n",
    "--> We can see for both defaulters and non defaulters the  majority loan type is Cash loan"
   ]
  },
  {
   "cell_type": "markdown",
   "id": "198d74ad-69cd-4db7-b3fa-daec22d05f8d",
   "metadata": {},
   "source": [
    "**Defaulters and Non Defaulters based on gender type**"
   ]
  },
  {
   "cell_type": "code",
   "execution_count": null,
   "id": "d8ca24fe-403b-4690-b742-2751dca7bbcc",
   "metadata": {},
   "outputs": [],
   "source": [
    "fig, axes = plt.subplots(1, 2, figsize=(14, 6))\n",
    "sns.countplot(ax=axes[0], data=Defaulters, x='CODE_GENDER')\n",
    "axes[0].set_title('Defaulters')\n",
    "axes[0].set_xlabel('Gender')\n",
    "axes[0].set_ylabel('Count')\n",
    "sns.countplot(ax=axes[1], data=Non_Defaulters, x='CODE_GENDER')\n",
    "axes[1].set_title('Non-Defaulters')\n",
    "axes[1].set_xlabel('Gender')\n",
    "axes[1].set_ylabel('Count')\n",
    "plt.tight_layout()\n",
    "plt.show()\n"
   ]
  },
  {
   "cell_type": "markdown",
   "id": "fc1f2d4a-cbd5-409f-932e-c1aeac885a95",
   "metadata": {},
   "source": [
    "Observation-->Count of Females is slightly  more for Defaulters where as count of females who is non defaulters are twice as that of males\n"
   ]
  },
  {
   "cell_type": "markdown",
   "id": "5c0e86a0-43bb-4627-9394-7d7dd96a3f53",
   "metadata": {},
   "source": [
    "**Defaulters and Non Defaulters based on credit amount**"
   ]
  },
  {
   "cell_type": "code",
   "execution_count": null,
   "id": "1058a170-3459-48c7-98c7-cb3448cb108b",
   "metadata": {},
   "outputs": [],
   "source": [
    "fig, axes = plt.subplots(1, 2, figsize=(14, 6))\n",
    "sns.distplot(Defaulters['AMT_CREDIT'], ax=axes[0])\n",
    "axes[0].set_title('Defaulters')\n",
    "axes[0].set_xlabel('Credit Amount')\n",
    "axes[0].set_ylabel('Count')\n",
    "sns.distplot(Non_Defaulters['AMT_CREDIT'], ax=axes[1])\n",
    "axes[1].set_title('Non-Defaulters')\n",
    "axes[1].set_xlabel('Credit Amount')\n",
    "axes[1].set_ylabel('Count')\n",
    "plt.tight_layout()\n",
    "plt.show()"
   ]
  },
  {
   "cell_type": "markdown",
   "id": "118bb96c-0e63-41cf-b56a-8cca6d506174",
   "metadata": {},
   "source": [
    "Observation --> As the loan amount increases defaulters and non defaulters have increased till a pint but there is gradual decrease after that with increase of credit amount "
   ]
  },
  {
   "cell_type": "markdown",
   "id": "86c3caa6-8202-486e-9b0e-8fb283193d64",
   "metadata": {},
   "source": [
    " **Defaulters and Non Defaulters based on income type**"
   ]
  },
  {
   "cell_type": "code",
   "execution_count": null,
   "id": "84b752db-3d87-4cea-8dba-9dc09f46a5ce",
   "metadata": {},
   "outputs": [],
   "source": [
    "fig, axes = plt.subplots(1, 2, figsize=(14, 6))\n",
    "sns.countplot(ax=axes[0], data=Defaulters, x='NAME_INCOME_TYPE')\n",
    "axes[0].set_title('Defaulters')\n",
    "axes[0].set_xlabel('Income Type')\n",
    "axes[0].set_ylabel('Count')\n",
    "axes[0].tick_params(axis='x', rotation=90)\n",
    "sns.countplot(ax=axes[1], data=Non_Defaulters, x='NAME_INCOME_TYPE')\n",
    "axes[1].set_title('Non-Defaulters')\n",
    "axes[1].set_xlabel('Income Type')\n",
    "axes[1].set_ylabel('Count')\n",
    "axes[1].tick_params(axis='x', rotation=90)\n",
    "plt.tight_layout()\n",
    "plt.show()"
   ]
  },
  {
   "cell_type": "markdown",
   "id": "9a21b011-8968-4145-af41-f427d3ade80e",
   "metadata": {},
   "source": [
    "Observation--> Working Professionals are the one to take more loans and also the leading one in both Defaulters and Non Defaulters "
   ]
  },
  {
   "cell_type": "markdown",
   "id": "66231e28-34df-4044-8603-2862cf2b2538",
   "metadata": {},
   "source": [
    "**Defaulters and Non Defaulters based on Education**"
   ]
  },
  {
   "cell_type": "code",
   "execution_count": null,
   "id": "8e8a8210-1437-4bf0-9fd4-e6e242f529b4",
   "metadata": {},
   "outputs": [],
   "source": [
    "fig, axes = plt.subplots(1, 2, figsize=(14, 6))\n",
    "sns.countplot(ax=axes[0], data=Defaulters, x='NAME_EDUCATION_TYPE')\n",
    "axes[0].set_title('Defaulters')\n",
    "axes[0].set_xlabel('Education Type')\n",
    "axes[0].set_ylabel('Count')\n",
    "axes[0].tick_params(axis='x', rotation=90)\n",
    "sns.countplot(ax=axes[1], data=Non_Defaulters, x='NAME_EDUCATION_TYPE')\n",
    "axes[1].set_title('Non-Defaulters')\n",
    "axes[1].set_xlabel('Education Type')\n",
    "axes[1].set_ylabel('Count')\n",
    "axes[1].tick_params(axis='x', rotation=90)\n",
    "plt.tight_layout()\n",
    "plt.show()"
   ]
  },
  {
   "cell_type": "markdown",
   "id": "525d750d-800b-4a5c-9685-232b24638fb6",
   "metadata": {},
   "source": [
    "Observation--> Clients with Secondary/secondary special  are the one to take more loans and also the leading one in both Defaulters and Non Defaulters"
   ]
  },
  {
   "cell_type": "markdown",
   "id": "ee139e0d-0ea2-4cf2-8236-91a36082bc6b",
   "metadata": {},
   "source": [
    "**Defaulters and Non Defaulters based on Work Experience**"
   ]
  },
  {
   "cell_type": "code",
   "execution_count": null,
   "id": "8097cad1-cd34-4977-b8ef-b076b62bdf8b",
   "metadata": {},
   "outputs": [],
   "source": [
    "fig, axes = plt.subplots(1, 2, figsize=(14, 6))\n",
    "sns.countplot(ax=axes[0], data=Defaulters, x='Work_Experience')\n",
    "axes[0].set_title('Defaulters')\n",
    "axes[0].set_xlabel('Work Experience')\n",
    "axes[0].set_ylabel('Count')\n",
    "axes[0].tick_params(axis='x', rotation=90)\n",
    "sns.countplot(ax=axes[1], data=Non_Defaulters, x='Work_Experience')\n",
    "axes[1].set_title('Non-Defaulters')\n",
    "axes[1].set_xlabel('Work Experience')\n",
    "axes[1].set_ylabel('Count')\n",
    "axes[1].tick_params(axis='x', rotation=90)\n",
    "plt.tight_layout()\n",
    "plt.show()"
   ]
  },
  {
   "cell_type": "markdown",
   "id": "620d9362-ce9a-4e67-8147-775ec8dfe632",
   "metadata": {},
   "source": [
    "Observation--> Clients with 1-5 are the one to take more loans and also the leading one in both Defaulters and Non Defaulters"
   ]
  },
  {
   "cell_type": "markdown",
   "id": "ea675f58-9930-4c27-91b8-7cf71dfd14b6",
   "metadata": {},
   "source": [
    "**SEGMENTED UNIVARIATE ANALYSIS**"
   ]
  },
  {
   "cell_type": "markdown",
   "id": "d1ea26ff-b1db-4723-aef8-ca92cafb4128",
   "metadata": {},
   "source": [
    "As we have already divided Age and Income into Age Group and Income Group columns , applying univariate analysis for both the columns."
   ]
  },
  {
   "cell_type": "markdown",
   "id": "d9dadf4d-8fd4-45ac-80f3-74e7a274fef1",
   "metadata": {},
   "source": [
    "**Defaulters and Non Defaulters based on Age Group**"
   ]
  },
  {
   "cell_type": "code",
   "execution_count": null,
   "id": "cb722bd2-0239-4e50-8996-dfca278761d8",
   "metadata": {},
   "outputs": [],
   "source": [
    "fig, axes = plt.subplots(1, 2, figsize=(14, 6))\n",
    "sns.countplot(ax=axes[0], data=Defaulters, x='Age_Group')\n",
    "axes[0].set_title('Defaulters')\n",
    "axes[0].set_xlabel('Age')\n",
    "axes[0].set_ylabel('Count')\n",
    "sns.countplot(ax=axes[1], data=Non_Defaulters, x='Age_Group')\n",
    "axes[1].set_title('Non-Defaulters')\n",
    "axes[1].set_xlabel('Age')\n",
    "axes[1].set_ylabel('Count')\n",
    "plt.tight_layout()\n",
    "plt.show()"
   ]
  },
  {
   "cell_type": "markdown",
   "id": "471d6b50-5ea7-46f0-bb59-79a06f03b35d",
   "metadata": {},
   "source": [
    "Observation --> Clients who are middle aged(30-60yrs) are the one to take more loans and also the leading one in both Defaulters and Non Defaulters"
   ]
  },
  {
   "cell_type": "markdown",
   "id": "8c32260d-1299-4a6b-ad2d-b16d5070e12d",
   "metadata": {},
   "source": [
    "**Defaulters and Non Defaulters based on Income Group**"
   ]
  },
  {
   "cell_type": "code",
   "execution_count": null,
   "id": "af10407d-963c-41ee-9fc8-191d97993179",
   "metadata": {},
   "outputs": [],
   "source": [
    "fig, axes = plt.subplots(1, 2, figsize=(14, 6))\n",
    "sns.countplot(ax=axes[0], data=Defaulters, x='Income_Group')\n",
    "axes[0].set_title('Defaulters')\n",
    "axes[0].set_xlabel('Income')\n",
    "axes[0].set_ylabel('Count')\n",
    "sns.countplot(ax=axes[1], data=Non_Defaulters, x='Income_Group')\n",
    "axes[1].set_title('Non-Defaulters')\n",
    "axes[1].set_xlabel('Income')\n",
    "axes[1].set_ylabel('Count')\n",
    "plt.tight_layout()\n",
    "plt.show()"
   ]
  },
  {
   "cell_type": "markdown",
   "id": "9eecad69-1876-424d-ba66-8e4aa93228b1",
   "metadata": {},
   "source": [
    "Observation --> Clients who are in medium income range are the one to take more loans and also the leading one in both Defaulters and Non Defaulters slightly beating the low income range"
   ]
  },
  {
   "cell_type": "markdown",
   "id": "bc6609c5-9dc9-44ee-a49b-9d5486f5e411",
   "metadata": {},
   "source": [
    "**Key takeaways from Univariate and Segmented Univariate Analysis**"
   ]
  },
  {
   "cell_type": "markdown",
   "id": "ddff27d8-3dcf-45b2-a7d0-6234e4bd50f0",
   "metadata": {},
   "source": [
    "1. 91% of Clients applied for loan did not have any payment difficulties where as 9% of Clients are with payment difficulties: he/she had late payment      more than X days on at least one of the first Y installments of the loan\n",
    "2. Clients are more interested in taking Cash Loans than Revolving Loans.\n",
    "3. Clients who are Married,with no children are the one to take more loans than other categories.\n",
    "4. Clients who are Middle aged(30-60yrs),with medium income range(130000-202500 per annum) and with 1-5 yrs of Work Experience are the one to take more  loans than other categories.\n",
    "5. Clients who are Females are the one to take more loans than Males\n",
    "6. Clients who own a House/Apartment are more likely to take loans than Others.\n"
   ]
  },
  {
   "cell_type": "markdown",
   "id": "3abbed81-5b8c-4b21-b3c1-5a42e179ccae",
   "metadata": {},
   "source": [
    "**BIVARIATE ANALYSIS**"
   ]
  },
  {
   "cell_type": "markdown",
   "id": "da5ea256-b565-485a-ace5-69f1ec4a5e35",
   "metadata": {},
   "source": [
    "To perform bivaariate analysis let us use the numeric and categorical columns of Defaulters and Non-Defaulters"
   ]
  },
  {
   "cell_type": "markdown",
   "id": "f30712da-031b-499c-a489-8e9cb9644e0e",
   "metadata": {},
   "source": [
    "**Bivariate Analysis of Numeric and categorical columns of Non-Defaulters**"
   ]
  },
  {
   "cell_type": "code",
   "execution_count": null,
   "id": "35f97f01-0bc6-4bd9-868c-133d51a0e9b4",
   "metadata": {},
   "outputs": [],
   "source": [
    "Nnum_cols=list(Non_Defaulters.dtypes[df1.dtypes!='object'].index)"
   ]
  },
  {
   "cell_type": "markdown",
   "id": "e7df4c72-5fa2-43bf-bea2-155995dd836e",
   "metadata": {},
   "source": [
    "**Analysis of Numerical vs Numerical columns**"
   ]
  },
  {
   "cell_type": "code",
   "execution_count": null,
   "id": "4c78cf36-0f8f-402a-8907-3e9c1719500b",
   "metadata": {},
   "outputs": [],
   "source": [
    "for col1 in Nnum_cols:\n",
    "    for col2 in Nnum_cols:\n",
    "        if col1!=col2:\n",
    "            plt.figure(figsize=(5,5))\n",
    "            sns.scatterplot(x=Non_Defaulters[col1],y=Non_Defaulters[col2])\n",
    "            plt.show()"
   ]
  },
  {
   "cell_type": "markdown",
   "id": "1b543f6f-c614-4833-a901-b9282278564d",
   "metadata": {},
   "source": [
    "**Analysis**\n",
    "\n"
   ]
  },
  {
   "cell_type": "markdown",
   "id": "c4f9392a-0b90-4e10-966d-0c4c31af3431",
   "metadata": {},
   "source": [
    "1.Regional population relative with index 0.1-0.3  have take more loans than other \n",
    "2.Regional Rating and Regional rating of Client wrt city of rating 2 are  the areas with more number of loans \n",
    "3.Higher Income Group has more amount Credited than lower and middle income group\n",
    "4.Clients who are of Middle Age(30-60) has taken more loans than young(<30) and Senior citizens(>60)\n",
    "5.Clients with higher external source score havemore loan amount"
   ]
  },
  {
   "cell_type": "markdown",
   "id": "236dcecc-0b00-4746-886d-70397329e741",
   "metadata": {},
   "source": [
    "**Analysis of Categorical vs Categorical columns**"
   ]
  },
  {
   "cell_type": "code",
   "execution_count": null,
   "id": "b7c2ab95-2cd8-4b78-9b5a-5ee7254c744d",
   "metadata": {},
   "outputs": [],
   "source": [
    "Ncat_cols = [col for col in Ncat_cols if col != 'ORGANIZATION_TYPE']"
   ]
  },
  {
   "cell_type": "code",
   "execution_count": null,
   "id": "dfda4171-cf7f-463d-9239-067aa87d217a",
   "metadata": {},
   "outputs": [],
   "source": [
    "for col1 in Ncat_cols:\n",
    "    for col2 in Ncat_cols:\n",
    "        if col1!=col2:\n",
    "            plt.figure(figsize=(5,3))\n",
    "            sns.boxplot(x=Non_Defaulters[col1],y=Non_Defaulters[col2])\n",
    "            plt.xticks(rotation=90)\n",
    "            plt.show()"
   ]
  },
  {
   "cell_type": "markdown",
   "id": "7c7cfd6c-ccd1-4764-9f10-20306c155610",
   "metadata": {},
   "source": [
    "**Observations**"
   ]
  },
  {
   "cell_type": "markdown",
   "id": "0ff0231c-3950-4046-8b76-af862b162d19",
   "metadata": {},
   "source": [
    "1.Cash Loans and revolving loans are mostly spread across State Servant, Working , Commercil Associates and Pensioners. \n",
    "2.It is interesting that not cash loan but Revolving loans were opted by few  Business class and Maternity leave category."
   ]
  },
  {
   "cell_type": "markdown",
   "id": "130ee82f-00a9-4112-82c2-f5e2f08d85b0",
   "metadata": {},
   "source": [
    "**Analysis of Numerical vs Categorical columns**"
   ]
  },
  {
   "cell_type": "code",
   "execution_count": null,
   "id": "c503ec6a-32bc-400e-ac9d-44cbe9970d15",
   "metadata": {},
   "outputs": [],
   "source": [
    "for col1 in Ncat_cols:\n",
    "    for col2 in Nnum_cols:\n",
    "            plt.figure(figsize=(6,6))\n",
    "            sns.boxplot(x=Non_Defaulters[col1],y=Non_Defaulters[col2])\n",
    "            plt.xticks(rotation=90)\n",
    "            plt.show()"
   ]
  },
  {
   "cell_type": "markdown",
   "id": "21094c40-1b39-42ac-8230-41b47cdeacb0",
   "metadata": {},
   "source": [
    "**Analysis**\n",
    "credit \r\n"
   ]
  },
  {
   "cell_type": "markdown",
   "id": "a712d80c-d69e-490c-9fdc-a72001decc11",
   "metadata": {},
   "source": [
    "1.There is no credit amount differnce between client owning cars or realty.\n",
    "2.Revolving loans have less credit amount compared to cash loans \n",
    "3.Clients taking revolving loans are mostly middle aged compared to cash loans which is opted by all age groups\n",
    "4.Thought the loans taken by Male and Female are almost in same range, the income group of Females taking loan is from Low-Medium and Males from Medium   to High \n",
    "5.Business Man tend to take more Credit Amount of loan than other classes \n",
    "6.Clients with higher education and academic degree tend to take more Credit Amount of loan\n",
    "7.Married and separated people tend to take more credit amount of loans \n",
    "8.Housing type and organisation type  doesn’t seem to have affect on the loan credit "
   ]
  },
  {
   "cell_type": "markdown",
   "id": "3eb71cbc-e16c-4e37-8c52-791d8b550cac",
   "metadata": {},
   "source": [
    "**Bivariate Analysis of Numeric and categorical columns of Defaulters**"
   ]
  },
  {
   "cell_type": "markdown",
   "id": "2d5ba50f-d3e0-4cfc-bb6a-e9b2d284d638",
   "metadata": {},
   "source": [
    "**Analysis of Numerical vs Numerical columns**"
   ]
  },
  {
   "cell_type": "code",
   "execution_count": null,
   "id": "87a1fdb8-3546-49a8-b430-617870dd273b",
   "metadata": {},
   "outputs": [],
   "source": [
    "Dnum_cols=list(Defaulters.dtypes[df1.dtypes!='object'].index)"
   ]
  },
  {
   "cell_type": "code",
   "execution_count": null,
   "id": "e314993d-402c-49a4-a775-23c5bfc0b51c",
   "metadata": {},
   "outputs": [],
   "source": [
    "for col1 in Dnum_cols:\n",
    "    for col2 in Dnum_cols:\n",
    "        if col1!=col2:\n",
    "            plt.figure(figsize=(5,5))\n",
    "            sns.scatterplot(x=Defaulters[col1],y=Defaulters[col2])\n",
    "            plt.show()"
   ]
  },
  {
   "cell_type": "markdown",
   "id": "d37e9db8-03d2-4df9-95aa-6118c5632e96",
   "metadata": {},
   "source": [
    "**Analysis**"
   ]
  },
  {
   "cell_type": "markdown",
   "id": "17389ed3-2cfe-44bd-addd-fb4f26863da1",
   "metadata": {},
   "source": [
    "Clients with Higher Income are more likely to be defaulters with payment difficulties\n",
    "Clients of middle aged group are more likely to be defaulters "
   ]
  },
  {
   "cell_type": "markdown",
   "id": "2112a646-d6a9-4554-bcc0-4871664629a4",
   "metadata": {},
   "source": [
    "**Analysis of Categorical vs Categorical columns**"
   ]
  },
  {
   "cell_type": "code",
   "execution_count": null,
   "id": "bbce2375-c9ba-48b5-b056-d001cc5ba1b6",
   "metadata": {},
   "outputs": [],
   "source": [
    "Dcat_cols = [col for col in Dcat_cols if col != 'ORGANIZATION_TYPE']"
   ]
  },
  {
   "cell_type": "code",
   "execution_count": null,
   "id": "b32125e9-f8aa-49ed-a11a-712b32a93d7f",
   "metadata": {},
   "outputs": [],
   "source": [
    "for col1 in Dcat_cols:\n",
    "    for col2 in Dcat_cols:\n",
    "        if col1!=col2:\n",
    "            plt.figure(figsize=(5,3))\n",
    "            sns.boxplot(x=Defaulters[col1],y=Defaulters[col2])\n",
    "            plt.xticks(rotation=90)\n",
    "            plt.show()"
   ]
  },
  {
   "cell_type": "markdown",
   "id": "e76aad5a-cc45-4b08-bcbe-a2240731c93d",
   "metadata": {},
   "source": [
    "**Observation**"
   ]
  },
  {
   "cell_type": "markdown",
   "id": "b017e09d-9f03-4613-a865-914f29cc8a6d",
   "metadata": {},
   "source": [
    "1.Working and commercial associates and some pensioners tend to have payment difficulties for both cash and revolving loans \n",
    "2.Mostly Married clients have payment difficulties for Cash loans where as range of  Married,Widowers,Single people tend to have difficulties for Revolving loans \n",
    "3.Most of Male and Female customers opted for Cash loans have difficlties in Paying with few of them in revolving loans \n"
   ]
  },
  {
   "cell_type": "markdown",
   "id": "0722570b-c07c-4553-962b-2f673711bdac",
   "metadata": {},
   "source": [
    "**Analysis of Numerical vs Categorical columns**"
   ]
  },
  {
   "cell_type": "code",
   "execution_count": null,
   "id": "a12ee7af-e52c-4408-a77d-a4d266354947",
   "metadata": {},
   "outputs": [],
   "source": [
    "for col1 in Dcat_cols:\n",
    "    for col2 in Dnum_cols:\n",
    "            plt.figure(figsize=(5,3))\n",
    "            sns.boxplot(x=Defaulters[col1],y=Defaulters[col2])\n",
    "            plt.xticks(rotation=90)\n",
    "            plt.show()"
   ]
  },
  {
   "cell_type": "markdown",
   "id": "1b8d8860-513d-4a55-8a87-9ecae8a9587b",
   "metadata": {},
   "source": [
    "**Observation**"
   ]
  },
  {
   "cell_type": "markdown",
   "id": "64dcf18f-84a0-42ee-9e5b-879fbcb2b45b",
   "metadata": {},
   "source": [
    "1.There is no credit amount differnce between client owning cars or realty.\n",
    "2.Revolving loans have less credit amount compared to cash loans \n",
    "3.Clients with external source score with 0.3-0.6 IQR tend to have payment difficulties\n",
    "4.Clients of all income types seem to have equal distribution of  loan payment difficulties "
   ]
  },
  {
   "cell_type": "markdown",
   "id": "f2676568-7c0f-4b52-995d-8d6c02257848",
   "metadata": {},
   "source": [
    "**Multivariate Analysis**"
   ]
  },
  {
   "cell_type": "code",
   "execution_count": null,
   "id": "ed6cd37a-bb23-4391-bc5d-b61bb2d70fde",
   "metadata": {},
   "outputs": [],
   "source": [
    "corr_cols = ['TARGET','AMT_INCOME_TOTAL','AMT_CREDIT','AMT_ANNUITY','AMT_GOODS_PRICE','AGE','EXT_SOURCE_2','EXT_SOURCE_3','REGION_RATING_CLIENT']"
   ]
  },
  {
   "cell_type": "code",
   "execution_count": null,
   "id": "19b4ce5f-665a-4a68-8783-0ccbb7570b15",
   "metadata": {},
   "outputs": [],
   "source": [
    "df_corr = df1[corr_cols]\n",
    "df_corr.head()"
   ]
  },
  {
   "cell_type": "code",
   "execution_count": null,
   "id": "a0a14087-1a1b-4d57-8565-7d1f5ee558ef",
   "metadata": {},
   "outputs": [],
   "source": [
    "plt.figure(figsize=(8,8))\n",
    "sns.heatmap(df_corr.corr(),annot=True,cmap='RdYlGn')\n",
    "plt.show()"
   ]
  },
  {
   "cell_type": "markdown",
   "id": "9df4fc4c-9be4-4daf-852f-fcd0ac5585e4",
   "metadata": {},
   "source": [
    "****Key takeaways from Multivariate Analysis****"
   ]
  },
  {
   "cell_type": "markdown",
   "id": "caf7594c-e45d-4d90-97e1-7888f2c4dcc3",
   "metadata": {},
   "source": [
    "1.Credit amount and Goods Price have strong Correaltion (0.99)\n",
    "2.Credit Amount  and Annuity have good correlation (0.77)\r",
    "3.Goods Price and Annuity have good correlationE (0.77)\n",
    "4.Regional Rating and External Source score have highest negative correlation(-0.29)"
   ]
  },
  {
   "cell_type": "code",
   "execution_count": null,
   "id": "7e471bf1-0819-44d9-a135-d1521dd6b24c",
   "metadata": {},
   "outputs": [],
   "source": []
  }
 ],
 "metadata": {
  "kernelspec": {
   "display_name": "Python 3 (ipykernel)",
   "language": "python",
   "name": "python3"
  },
  "language_info": {
   "codemirror_mode": {
    "name": "ipython",
    "version": 3
   },
   "file_extension": ".py",
   "mimetype": "text/x-python",
   "name": "python",
   "nbconvert_exporter": "python",
   "pygments_lexer": "ipython3",
   "version": "3.12.4"
  }
 },
 "nbformat": 4,
 "nbformat_minor": 5
}
