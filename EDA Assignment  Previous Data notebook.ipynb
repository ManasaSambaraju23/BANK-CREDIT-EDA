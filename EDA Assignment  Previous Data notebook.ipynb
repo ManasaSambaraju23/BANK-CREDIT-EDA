{
 "cells": [
  {
   "cell_type": "markdown",
   "id": "82df38e9-fc7a-40e5-a89a-d4e800f6c945",
   "metadata": {},
   "source": [
    "**EDA Assignment** "
   ]
  },
  {
   "cell_type": "code",
   "execution_count": null,
   "id": "4295e59c-1e7c-4572-a2ad-630adb3e79ec",
   "metadata": {},
   "outputs": [],
   "source": [
    "#importing required libraries and warnings\n",
    "import pandas as pd\n",
    "import numpy as np\n",
    "import matplotlib.pyplot as plt\n",
    "import seaborn as sns\n",
    "import warnings\n",
    "warnings.filterwarnings(action='ignore')"
   ]
  },
  {
   "cell_type": "markdown",
   "id": "4dc54bf5-d697-45f0-91c8-55b1aaf8ca31",
   "metadata": {},
   "source": [
    "**Importing CSV Files**"
   ]
  },
  {
   "cell_type": "code",
   "execution_count": null,
   "id": "b720535d-4f2d-454a-b042-854a4d38bc3e",
   "metadata": {},
   "outputs": [],
   "source": [
    "\n",
    "previous_data = pd.read_csv('previous_application.csv')\n",
    "\n",
    "#https://drive.google.com/drive/folders/16RQztUqCfJOlbooHqYlJrp6Q7iL65uZB"
   ]
  },
  {
   "cell_type": "markdown",
   "id": "ca037393-76dc-4edf-b6b8-090e02a754b7",
   "metadata": {},
   "source": [
    "**DATA LOADING**"
   ]
  },
  {
   "cell_type": "code",
   "execution_count": null,
   "id": "89c265c5-b63e-4ea7-89fe-989e00ee7551",
   "metadata": {},
   "outputs": [],
   "source": [
    "previous_data.head()"
   ]
  },
  {
   "cell_type": "code",
   "execution_count": null,
   "id": "5cf923ad-ce3a-4236-83a4-7f0cb2a2e0ec",
   "metadata": {},
   "outputs": [],
   "source": [
    "previous_data.shape"
   ]
  },
  {
   "cell_type": "markdown",
   "id": "a79c187f-f13d-47c3-951c-9939c8f825c1",
   "metadata": {},
   "source": [
    "**Identification of Missing Values**"
   ]
  },
  {
   "cell_type": "code",
   "execution_count": null,
   "id": "66253e8f-f422-4357-bf7d-9b6c2cddecf8",
   "metadata": {},
   "outputs": [],
   "source": [
    "previous_data.info()"
   ]
  },
  {
   "cell_type": "markdown",
   "id": "fd7863fa-2621-4c26-8bba-5651c49fa27f",
   "metadata": {},
   "source": [
    "**Dropping the columns with % of null values more than 30%**"
   ]
  },
  {
   "cell_type": "code",
   "execution_count": null,
   "id": "b0f7922a-39f3-4375-a775-bcb377c37940",
   "metadata": {},
   "outputs": [],
   "source": [
    "100*previous_data.isnull().mean()"
   ]
  },
  {
   "cell_type": "code",
   "execution_count": null,
   "id": "c5dc84d6-52eb-4f52-8178-537a284f3b6c",
   "metadata": {},
   "outputs": [],
   "source": [
    "cut_off=30\n",
    "cols_to_drop=list(previous_data.columns[100*previous_data.isnull().mean()>cut_off])\n",
    "print(cols_to_drop,len(cols_to_drop))"
   ]
  },
  {
   "cell_type": "code",
   "execution_count": null,
   "id": "07e194fb-06a0-43ba-bfe9-00b93ba99d85",
   "metadata": {},
   "outputs": [],
   "source": [
    "df1=previous_data.drop(cols_to_drop,axis=1)"
   ]
  },
  {
   "cell_type": "code",
   "execution_count": null,
   "id": "3fa9cf1a-b310-47da-bae4-1763ef2665f5",
   "metadata": {},
   "outputs": [],
   "source": [
    "df1.shape"
   ]
  },
  {
   "cell_type": "code",
   "execution_count": null,
   "id": "bac8d98b-a408-43c4-ba9a-02d7800be4ac",
   "metadata": {},
   "outputs": [],
   "source": [
    "df1.info()"
   ]
  },
  {
   "cell_type": "markdown",
   "id": "0a7212e9-cc81-41a7-a640-5a4c94284243",
   "metadata": {},
   "source": [
    "**Dividing the columns into Categorical and Numerical**"
   ]
  },
  {
   "cell_type": "code",
   "execution_count": null,
   "id": "daf5bd38-0064-4721-ac98-d162afb832af",
   "metadata": {},
   "outputs": [],
   "source": [
    "cat_cols=list(df1.dtypes[df1.dtypes=='object'].index)"
   ]
  },
  {
   "cell_type": "code",
   "execution_count": null,
   "id": "3a096cf9-0795-4e80-bc31-d9be6b703e10",
   "metadata": {},
   "outputs": [],
   "source": [
    "num_cols=list(df1.dtypes[df1.dtypes!='object'].index)"
   ]
  },
  {
   "cell_type": "code",
   "execution_count": null,
   "id": "6bfad08c-62be-41d2-80ac-3c7fd947bda0",
   "metadata": {},
   "outputs": [],
   "source": [
    "df1[cat_cols].head()"
   ]
  },
  {
   "cell_type": "code",
   "execution_count": null,
   "id": "0f52b212-6ee0-47cd-a73e-7d7fd1dabf42",
   "metadata": {},
   "outputs": [],
   "source": [
    "df1[num_cols].head()"
   ]
  },
  {
   "cell_type": "code",
   "execution_count": null,
   "id": "c4d89472-1d6c-47bb-a3ff-75a88f15c21f",
   "metadata": {},
   "outputs": [],
   "source": [
    "df1[cat_cols].shape"
   ]
  },
  {
   "cell_type": "code",
   "execution_count": null,
   "id": "d6dcb0e1-bbd4-47ba-a781-d77a3285845f",
   "metadata": {},
   "outputs": [],
   "source": [
    "df1[num_cols].shape"
   ]
  },
  {
   "cell_type": "markdown",
   "id": "11e37d05-ecc5-4699-af70-532473d8098a",
   "metadata": {},
   "source": [
    "**Imputation of Data** "
   ]
  },
  {
   "cell_type": "markdown",
   "id": "38e71407-6218-458c-81d8-23891697fbd4",
   "metadata": {},
   "source": [
    "***Replacing missing values with median for numerical columns***"
   ]
  },
  {
   "cell_type": "code",
   "execution_count": null,
   "id": "4658ea68-35fe-46bf-9e06-92440e755986",
   "metadata": {},
   "outputs": [],
   "source": [
    "100*df1[num_cols].isnull().mean()"
   ]
  },
  {
   "cell_type": "code",
   "execution_count": null,
   "id": "829d94cf-38c2-4535-b977-e271e1f9539b",
   "metadata": {},
   "outputs": [],
   "source": [
    "for col in num_cols:\n",
    "    med=df1[col].median()\n",
    "    df1[col]=df1[col].fillna(med)"
   ]
  },
  {
   "cell_type": "code",
   "execution_count": null,
   "id": "d05ae793-7326-4102-87c2-6b7206cee0c6",
   "metadata": {},
   "outputs": [],
   "source": [
    "100*df1[num_cols].isnull().mean()"
   ]
  },
  {
   "cell_type": "markdown",
   "id": "adf3c56a-2f6c-4d5c-bb7e-a307b539f346",
   "metadata": {},
   "source": [
    "***Replacing missing values with mode for categorical columns***"
   ]
  },
  {
   "cell_type": "code",
   "execution_count": null,
   "id": "c8ebe8c7-f86e-4a28-8978-bdb1a2185f1b",
   "metadata": {},
   "outputs": [],
   "source": [
    "100*df1[cat_cols].isnull().mean()"
   ]
  },
  {
   "cell_type": "code",
   "execution_count": null,
   "id": "d548a45f-0bee-41d1-bef0-7495bc8b8e67",
   "metadata": {},
   "outputs": [],
   "source": [
    "for col in cat_cols:\n",
    "    mod=df1[col].mode()[0] \n",
    "    df1[col]=df1[col].fillna(mod)"
   ]
  },
  {
   "cell_type": "code",
   "execution_count": null,
   "id": "4cd07971-6bea-45e7-8b01-b309438cda65",
   "metadata": {},
   "outputs": [],
   "source": [
    "df1[cat_cols].isnull().mean()"
   ]
  },
  {
   "cell_type": "markdown",
   "id": "56f4d0ff-d6e0-4736-83ed-fa13d6250265",
   "metadata": {},
   "source": [
    "**EDA**"
   ]
  },
  {
   "cell_type": "markdown",
   "id": "b10f3446-ad39-48ef-accb-78f2e6892930",
   "metadata": {},
   "source": [
    "**Univariate Analysis**"
   ]
  },
  {
   "cell_type": "markdown",
   "id": "5042bcdf-d2d7-4ab8-841a-00e539b1134d",
   "metadata": {},
   "source": [
    "**Note- As there are multiple columns with values XAP and XNA , we are not replacing these values as it might refer to not applicable data for the particular client and it would be inappropriate for filling these values with Mean, Median or Mode as it migth tamper these columns data** \n"
   ]
  },
  {
   "cell_type": "markdown",
   "id": "4b8b9058-98a6-401f-aaf5-f84c24a6aabb",
   "metadata": {},
   "source": [
    "**Assuming the below for both the Values \n",
    "XAP- Not Applicable \n",
    "XNA- Not Available**"
   ]
  },
  {
   "cell_type": "markdown",
   "id": "5cec3d0e-29ae-46b9-95e0-1d1f87d0838a",
   "metadata": {},
   "source": [
    "**Using Histogram for numerical columns**"
   ]
  },
  {
   "cell_type": "markdown",
   "id": "09147954-bfc6-4ce8-9ec2-db9c80f10330",
   "metadata": {},
   "source": [
    "***Using box plot  for numerical columns***"
   ]
  },
  {
   "cell_type": "code",
   "execution_count": null,
   "id": "8ac269f6-73e4-4420-b43a-4ece311478ad",
   "metadata": {},
   "outputs": [],
   "source": [
    "for col in num_cols:\n",
    "    plt.figure(figsize=(4,4))\n",
    "    sns.boxplot(x=df1[col])\n",
    "    plt.xticks(rotation=90)\n",
    "    plt.show()"
   ]
  },
  {
   "cell_type": "markdown",
   "id": "3c4aed23-504b-4163-bb11-69893fa61e49",
   "metadata": {},
   "source": [
    "***Using count plot for categorical columns***"
   ]
  },
  {
   "cell_type": "code",
   "execution_count": null,
   "id": "a57421aa-fae8-4281-8abf-7afc883d8f8a",
   "metadata": {},
   "outputs": [],
   "source": [
    "for col in cat_cols:\n",
    "    plt.figure(figsize=(4,4))\n",
    "    sns.countplot(x=df1[col])\n",
    "    plt.xticks(rotation=90)\n",
    "    plt.show()"
   ]
  },
  {
   "cell_type": "markdown",
   "id": "79913e0c-773b-4c83-bc59-b2f3bff0c0be",
   "metadata": {},
   "source": [
    "**Key observations from Univariate Analysis of Previous Application Data**"
   ]
  },
  {
   "cell_type": "markdown",
   "id": "e0d6f30d-7b59-45fe-ac71-764f461c3d61",
   "metadata": {},
   "source": [
    "1.Consumer Loans and Cash loans take a major part in previous application than revolving loans \n",
    "2.Loans were mostly processed on weekdays.\n",
    "3.Most of the customers who took cash loans were for Repairs  purpose \n",
    "4.Most of the loans were approved with a few in Refused and Cancelled status while a very minute % of loan was unused ooffer \n",
    "5.Most of the Payments Client made for the previous application was through Cash payment at bank while significant number of customers payment method was not disclosed.\n",
    "6.Though the not applicable value is high for code_reject_reason, we can assume these are for non rejected clients , and the major reason for rejection of laon is HC-High Credit followed by Limit and Verification issue.\n",
    "7.Client Type with highest frequency is Repeater \n",
    "8.Mobiles are the highest category for which clients are applying for loans \n",
    "9.POS was the most used portfolio \n",
    "10. X-sell was the highest product type. i.e  Additional Product was selled to existing customer \n",
    "11.Most Clients were aquired through Credit and Cash Offices.\n",
    "12.Electronics Industry is the highest cqtegory of Seller \n",
    "13.Interest Rate was mostly in middle range closely followed by high interest rates for Previous Applications \n",
    "14.Cash Loans and POS loans for Household were the maximum loans taken by the previous customers \n",
    "15. Loans were applied mostly in Working hours i.e from 10AM-3PM\n"
   ]
  },
  {
   "cell_type": "markdown",
   "id": "52cffb06-e196-44cb-99ad-cc03c1b77496",
   "metadata": {},
   "source": [
    "**BIVARIATE ANALYSIS**"
   ]
  },
  {
   "cell_type": "markdown",
   "id": "1f05f512-fa47-4cb5-ab5a-99f8884ab814",
   "metadata": {},
   "source": [
    "**Bivariate Analysis of Numeric and categorical columns**"
   ]
  },
  {
   "cell_type": "markdown",
   "id": "0e84c2ed-6774-4b5b-a516-821705d7f0b9",
   "metadata": {},
   "source": [
    "**Analysis of Numerical vs Numerical columns**"
   ]
  },
  {
   "cell_type": "code",
   "execution_count": null,
   "id": "cf480e0c-775a-40e9-867f-529f07f487f2",
   "metadata": {},
   "outputs": [],
   "source": [
    "#Removing irrelavant columns from numerical column list for analysis\n",
    "cols_to_remove = ['SK_ID_PREV','SK_ID_CURR','HOUR_APPR_PROCESS_START','NFLAG_LAST_APPL_IN_DAY','SELLERPLACE_AREA','DAYS_DECISION']\n",
    "num_cols= [col for col in num_cols if col not in cols_to_remove ]\n",
    "num_cols"
   ]
  },
  {
   "cell_type": "code",
   "execution_count": null,
   "id": "dff8fa78-8fb7-40b7-9242-1879cacf023c",
   "metadata": {},
   "outputs": [],
   "source": [
    "for col1 in num_cols:\n",
    "    for col2 in num_cols:\n",
    "        if col1!=col2:\n",
    "            plt.figure(figsize=(5,5))\n",
    "            sns.scatterplot(x=df1[col1],y=df1[col2])\n",
    "            plt.xticks(rotation=90)\n",
    "            plt.show()"
   ]
  },
  {
   "cell_type": "markdown",
   "id": "40dc0001-2c99-45a1-8082-fddf24f481d4",
   "metadata": {},
   "source": [
    "**Observations**"
   ]
  },
  {
   "cell_type": "markdown",
   "id": "6cbac7f2-27dd-4135-a2eb-d4735495aace",
   "metadata": {},
   "source": [
    "1.Annuity amount and Credit Amount shows signifiant linear relation which implies most of the clients have recieved the amount qouted in Application \n",
    "2.Application amount and Amount of Goods Price also has a linear relation stating with increase of goods price , loan amount also increases \n"
   ]
  },
  {
   "cell_type": "markdown",
   "id": "91826e91-4257-4436-abe0-c3a27d326751",
   "metadata": {},
   "source": [
    "**Analysis of Categorical vs Categorical columns**"
   ]
  },
  {
   "cell_type": "code",
   "execution_count": null,
   "id": "057500d6-ae74-4d1b-b9f3-5ad8f3981fd7",
   "metadata": {},
   "outputs": [],
   "source": [
    "#Removing irrelavant columns from categorical column list for analysis\n",
    "col_to_remove = ['WEEKDAY_APPR_PROCESS_START','FLAG_LAST_APPL_PER_CONTRACT','NAME_CASH_LOAN_PURPOSE','CHANNEL_TYPE']\n",
    "cat_cols= [col for col in cat_cols if col not in col_to_remove ]\n",
    "cat_cols"
   ]
  },
  {
   "cell_type": "code",
   "execution_count": null,
   "id": "896ec85b-6561-4729-8a62-a4673db94c96",
   "metadata": {},
   "outputs": [],
   "source": [
    "for col1 in cat_cols:\n",
    "    for col2 in cat_cols:\n",
    "        if col1!=col2:\n",
    "            plt.figure(figsize=(5,3))\n",
    "            sns.boxplot(x=df1[col1],y=df1[col2])\n",
    "            plt.xticks(rotation=90)\n",
    "            plt.show()"
   ]
  },
  {
   "cell_type": "markdown",
   "id": "fc88c707-efd3-49d7-8323-d9dceb6cfa5e",
   "metadata": {},
   "source": [
    "**Observations**"
   ]
  },
  {
   "cell_type": "markdown",
   "id": "705ceecd-36c9-423c-bbc6-9196ca88053e",
   "metadata": {},
   "source": [
    "1.Most of the Consumer Loans are approved with a very few Refused or Cancelled, where as for Cash Loans IQR ranges from Approved, Refused and Canelled which implies chances of Cash Loans Refused /Cancelled is equal to that of approval \n",
    "2.For Consumer loans most of re payments were given as cash through banks , where as for Cash loans its mostly cash through bank and also some through non cash from account \n",
    "3.Cash loans were mostly rejected due to High Credit and Limit reasons but there are also some Consumer loans rejected to same reason \n",
    "4.Cash & Revolving loans were mostly given to Existing customers where as Consumer loan were given to New and existing customers .\n",
    "5.Loans were mostly rejected for the Repeated customers.\n",
    "6.Loans were mostly rejected for high and low-normal interest rates.\n",
    "7.New Customers mostly opted for Consumer  Loans \n"
   ]
  },
  {
   "cell_type": "markdown",
   "id": "9c792c19-a158-416a-bc82-37c2d31fd426",
   "metadata": {},
   "source": [
    "**Analysis of Numerical vs Categorical columns**"
   ]
  },
  {
   "cell_type": "code",
   "execution_count": null,
   "id": "7a4079b9-1a5e-4325-81e2-178524e42c9a",
   "metadata": {},
   "outputs": [],
   "source": [
    "for col1 in cat_cols:\n",
    "    for col2 in num_cols:\n",
    "            plt.figure(figsize=(6,6))\n",
    "            sns.boxplot(x=df1[col1],y=df1[col2])\n",
    "            plt.xticks(rotation=90)\n",
    "            plt.show()"
   ]
  },
  {
   "cell_type": "markdown",
   "id": "3fc33456-f4b5-40c7-b35d-179fa7b67564",
   "metadata": {},
   "source": [
    "**OBSERVATIONS**"
   ]
  },
  {
   "cell_type": "markdown",
   "id": "c485fbf3-8fa8-4dda-9a87-6e8dc648cdef",
   "metadata": {},
   "source": [
    "1.We can see as the term of payment of previous application is increased chances of loan getting refused is high \n",
    "2.Loans Refused with Verification issues have considerably High amount lo loan in Application. i.e they may not be able to meet the standard for loan repayment \n",
    "3.Loans refused with Verification and High Credit reasons have also high count of Repayment days for Previous application. i.e They might have faced issues issues in repaying the previous loan.\n",
    "4.We can see the when the Interest rate is high the amount applied for loan is significantly low than the intrest rate ranging with low-normal,low-action and middle \n"
   ]
  }
 ],
 "metadata": {
  "kernelspec": {
   "display_name": "Python 3 (ipykernel)",
   "language": "python",
   "name": "python3"
  },
  "language_info": {
   "codemirror_mode": {
    "name": "ipython",
    "version": 3
   },
   "file_extension": ".py",
   "mimetype": "text/x-python",
   "name": "python",
   "nbconvert_exporter": "python",
   "pygments_lexer": "ipython3",
   "version": "3.12.4"
  }
 },
 "nbformat": 4,
 "nbformat_minor": 5
}
